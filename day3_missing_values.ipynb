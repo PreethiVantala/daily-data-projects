{
 "cells": [
  {
   "cell_type": "code",
   "execution_count": 1,
   "id": "68612ab9-08d5-4de3-91b0-e2b743943269",
   "metadata": {},
   "outputs": [
    {
     "name": "stdout",
     "output_type": "stream",
     "text": [
      "Original DataFrame:\n",
      "       Name   Age         City\n",
      "0    Alice  25.0     New York\n",
      "1      Bob   NaN  Los Angeles\n",
      "2  Charlie  30.0          NaN\n",
      "3    David   NaN      Chicago\n",
      "4      Eve  40.0      Houston\n",
      "\n",
      "Missing Values:\n",
      " Name    0\n",
      "Age     2\n",
      "City    1\n",
      "dtype: int64\n",
      "\n",
      "Cleaned DataFrame:\n",
      "       Name        Age         City\n",
      "0    Alice  25.000000     New York\n",
      "1      Bob  31.666667  Los Angeles\n",
      "2  Charlie  30.000000      Unknown\n",
      "3    David  31.666667      Chicago\n",
      "4      Eve  40.000000      Houston\n",
      "\n",
      "Cleaned data saved as 'cleaned_data.csv'\n"
     ]
    },
    {
     "name": "stderr",
     "output_type": "stream",
     "text": [
      "C:\\Users\\vanta\\AppData\\Local\\Temp\\ipykernel_1292\\214310794.py:18: FutureWarning: A value is trying to be set on a copy of a DataFrame or Series through chained assignment using an inplace method.\n",
      "The behavior will change in pandas 3.0. This inplace method will never work because the intermediate object on which we are setting values always behaves as a copy.\n",
      "\n",
      "For example, when doing 'df[col].method(value, inplace=True)', try using 'df.method({col: value}, inplace=True)' or df[col] = df[col].method(value) instead, to perform the operation inplace on the original object.\n",
      "\n",
      "\n",
      "  df[\"Age\"].fillna(df[\"Age\"].mean(), inplace=True)  # Fill with mean age\n",
      "C:\\Users\\vanta\\AppData\\Local\\Temp\\ipykernel_1292\\214310794.py:19: FutureWarning: A value is trying to be set on a copy of a DataFrame or Series through chained assignment using an inplace method.\n",
      "The behavior will change in pandas 3.0. This inplace method will never work because the intermediate object on which we are setting values always behaves as a copy.\n",
      "\n",
      "For example, when doing 'df[col].method(value, inplace=True)', try using 'df.method({col: value}, inplace=True)' or df[col] = df[col].method(value) instead, to perform the operation inplace on the original object.\n",
      "\n",
      "\n",
      "  df[\"City\"].fillna(\"Unknown\", inplace=True)        # Fill missing city with 'Unknown'\n"
     ]
    }
   ],
   "source": [
    "import pandas as pd\n",
    "import numpy as np\n",
    "\n",
    "# Creating a sample dataset with missing values\n",
    "data = {\n",
    "    \"Name\": [\"Alice\", \"Bob\", \"Charlie\", \"David\", \"Eve\"],\n",
    "    \"Age\": [25, np.nan, 30, np.nan, 40],\n",
    "    \"City\": [\"New York\", \"Los Angeles\", np.nan, \"Chicago\", \"Houston\"]\n",
    "}\n",
    "\n",
    "df = pd.DataFrame(data)\n",
    "print(\"Original DataFrame:\\n\", df)\n",
    "\n",
    "# Detect missing values\n",
    "print(\"\\nMissing Values:\\n\", df.isnull().sum())\n",
    "\n",
    "# Fill missing values\n",
    "df[\"Age\"].fillna(df[\"Age\"].mean(), inplace=True)  # Fill with mean age\n",
    "df[\"City\"].fillna(\"Unknown\", inplace=True)        # Fill missing city with 'Unknown'\n",
    "\n",
    "print(\"\\nCleaned DataFrame:\\n\", df)\n",
    "\n",
    "# Save cleaned data to CSV\n",
    "df.to_csv(\"cleaned_data.csv\", index=False)\n",
    "print(\"\\nCleaned data saved as 'cleaned_data.csv'\")"
   ]
  },
  {
   "cell_type": "code",
   "execution_count": null,
   "id": "8c1d5548-3c7f-4e90-b63a-07d4df0171dd",
   "metadata": {},
   "outputs": [],
   "source": []
  }
 ],
 "metadata": {
  "kernelspec": {
   "display_name": "Python 3 (ipykernel)",
   "language": "python",
   "name": "python3"
  },
  "language_info": {
   "codemirror_mode": {
    "name": "ipython",
    "version": 3
   },
   "file_extension": ".py",
   "mimetype": "text/x-python",
   "name": "python",
   "nbconvert_exporter": "python",
   "pygments_lexer": "ipython3",
   "version": "3.12.4"
  }
 },
 "nbformat": 4,
 "nbformat_minor": 5
}
