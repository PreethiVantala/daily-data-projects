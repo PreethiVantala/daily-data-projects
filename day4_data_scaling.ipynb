{
 "cells": [
  {
   "cell_type": "code",
   "execution_count": 1,
   "id": "014e6877-866a-41e0-8b20-3bc271d5d7b8",
   "metadata": {},
   "outputs": [
    {
     "name": "stdout",
     "output_type": "stream",
     "text": [
      "Original DataFrame:\n",
      "       Name  Age  Salary\n",
      "0    Alice   25   50000\n",
      "1      Bob   30   60000\n",
      "2  Charlie   35   70000\n",
      "3    David   40   80000\n",
      "4      Eve   45   90000\n",
      "\n",
      "Transformed DataFrame:\n",
      "       Name  Age  Salary  Age_Normalized  Salary_Normalized  Age_Standardized  \\\n",
      "0    Alice   25   50000            0.00               0.00         -1.414214   \n",
      "1      Bob   30   60000            0.25               0.25         -0.707107   \n",
      "2  Charlie   35   70000            0.50               0.50          0.000000   \n",
      "3    David   40   80000            0.75               0.75          0.707107   \n",
      "4      Eve   45   90000            1.00               1.00          1.414214   \n",
      "\n",
      "   Salary_Standardized  \n",
      "0            -1.414214  \n",
      "1            -0.707107  \n",
      "2             0.000000  \n",
      "3             0.707107  \n",
      "4             1.414214  \n",
      "\n",
      "Scaled data saved as 'scaled_data.csv'\n"
     ]
    }
   ],
   "source": [
    "import pandas as pd\n",
    "import numpy as np\n",
    "from sklearn.preprocessing import MinMaxScaler, StandardScaler\n",
    "\n",
    "# Create a sample dataset\n",
    "data = {\n",
    "    \"Name\": [\"Alice\", \"Bob\", \"Charlie\", \"David\", \"Eve\"],\n",
    "    \"Age\": [25, 30, 35, 40, 45],\n",
    "    \"Salary\": [50000, 60000, 70000, 80000, 90000]\n",
    "}\n",
    "\n",
    "df = pd.DataFrame(data)\n",
    "print(\"Original DataFrame:\\n\", df)\n",
    "\n",
    "# Normalize Age & Salary using Min-Max Scaling\n",
    "scaler = MinMaxScaler()\n",
    "df[[\"Age_Normalized\", \"Salary_Normalized\"]] = scaler.fit_transform(df[[\"Age\", \"Salary\"]])\n",
    "\n",
    "# Standardize Age & Salary using Z-score Standardization\n",
    "standard_scaler = StandardScaler()\n",
    "df[[\"Age_Standardized\", \"Salary_Standardized\"]] = standard_scaler.fit_transform(df[[\"Age\", \"Salary\"]])\n",
    "\n",
    "print(\"\\nTransformed DataFrame:\\n\", df)\n",
    "\n",
    "# Save transformed data\n",
    "df.to_csv(\"scaled_data.csv\", index=False)\n",
    "print(\"\\nScaled data saved as 'scaled_data.csv'\")\n"
   ]
  },
  {
   "cell_type": "code",
   "execution_count": null,
   "id": "6c433d54-c0a5-4c92-8caf-d7a78cae84cf",
   "metadata": {},
   "outputs": [],
   "source": []
  }
 ],
 "metadata": {
  "kernelspec": {
   "display_name": "Python 3 (ipykernel)",
   "language": "python",
   "name": "python3"
  },
  "language_info": {
   "codemirror_mode": {
    "name": "ipython",
    "version": 3
   },
   "file_extension": ".py",
   "mimetype": "text/x-python",
   "name": "python",
   "nbconvert_exporter": "python",
   "pygments_lexer": "ipython3",
   "version": "3.12.4"
  }
 },
 "nbformat": 4,
 "nbformat_minor": 5
}
